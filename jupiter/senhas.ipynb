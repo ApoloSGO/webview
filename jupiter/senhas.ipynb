{
 "cells": [
  {
   "cell_type": "code",
   "execution_count": null,
   "metadata": {},
   "outputs": [],
   "source": [
    "import string\n",
    "import random\n",
    "\n",
    "# Lista de caracteres para geração de senhas\n",
    "caracteres = list(string.ascii_letters + string.digits + \"!@#$%¨&*()-?:\")\n",
    "\n",
    "def main():\n",
    "    while True:\n",
    "        # Obter tamanho e quantidade de senhas com validação de entrada\n",
    "        try:\n",
    "            tamanho = int(input(\"Digite um tamanho para a senha: \"))\n",
    "            if tamanho < 1:\n",
    "                raise ValueError(\"O tamanho da senha deve ser pelo menos 1.\")\n",
    "            \n",
    "            qtd = int(input(\"Digite a quantidade de senhas a ser gerada: \"))\n",
    "            if qtd < 1:\n",
    "                raise ValueError(\"A quantidade deve ser pelo menos 1.\")\n",
    "                \n",
    "        except ValueError as ve:\n",
    "            print(f\"Entrada inválida: {ve}\")\n",
    "            continue  # Retorna ao início do loop para tentar novamente\n",
    "        \n",
    "        random.shuffle(caracteres)  # Embaralha a lista de caracteres\n",
    "\n",
    "        # Gera a quantidade de senhas solicitada\n",
    "        for _ in range(qtd):\n",
    "            senha = []\n",
    "            for _ in range(tamanho):\n",
    "                senha.append(random.choice(caracteres))\n",
    "            \n",
    "            random.shuffle(senha)  # Embaralha a senha antes de imprimir\n",
    "            print(\"\".join(senha))\n",
    "        \n",
    "        # Pergunta ao usuário se deseja rodar novamente\n",
    "        checar = input(\"Gostaria de rodar o programa novamente? (sim/nao): \")\n",
    "        \n",
    "        # Verifica resposta do usuário\n",
    "        if checar.lower() not in [\"sim\", \"s\"]:\n",
    "            print(\"\\nAté mais! Finalizando o programa.\\n\")\n",
    "            break  # Sai do loop se a resposta não for \"sim\" ou \"s\""
   ]
  }
 ],
 "metadata": {
  "kernelspec": {
   "display_name": "Python 3",
   "language": "python",
   "name": "python3"
  },
  "language_info": {
   "codemirror_mode": {
    "name": "ipython",
    "version": 3
   },
   "file_extension": ".py",
   "mimetype": "text/x-python",
   "name": "python",
   "nbconvert_exporter": "python",
   "pygments_lexer": "ipython3",
   "version": "3.12.3"
  }
 },
 "nbformat": 4,
 "nbformat_minor": 2
}
